{
 "cells": [
  {
   "cell_type": "code",
   "execution_count": 1,
   "id": "66eea94f-2054-48f3-9974-8695b8700f11",
   "metadata": {},
   "outputs": [],
   "source": [
    "from dataclasses import dataclass"
   ]
  },
  {
   "cell_type": "code",
   "execution_count": 2,
   "id": "dc2fa3f4-d36c-45a4-91b6-62aae0e28a89",
   "metadata": {},
   "outputs": [],
   "source": [
    "@dataclass(frozen=True)\n",
    "class Site:\n",
    "    usgs_site_code: str\n",
    "    nwm_feature_id: int\n",
    "    minor_flood_ft: float\n",
    "    minor_flood_cfs: float"
   ]
  },
  {
   "cell_type": "code",
   "execution_count": 3,
   "id": "dede662b-6b52-4dee-b750-f31b52a8b3cd",
   "metadata": {},
   "outputs": [],
   "source": [
    "sites = [\n",
    "    Site(\"02169505\", 9684218, 7.2, 1000.0),\n",
    "    Site(\"02169570\", 9680968, 6.7, 1090.0)\n",
    "]"
   ]
  },
  {
   "cell_type": "code",
   "execution_count": 4,
   "id": "1c3e047e-58b9-403a-9d0b-d9fdd25fc1ed",
   "metadata": {},
   "outputs": [],
   "source": [
    "target_ri = 1.3"
   ]
  },
  {
   "cell_type": "code",
   "execution_count": null,
   "id": "fdd1a6b1-5aee-4d66-8b78-49591be31f64",
   "metadata": {},
   "outputs": [],
   "source": []
  }
 ],
 "metadata": {
  "kernelspec": {
   "display_name": "Python 3 (ipykernel)",
   "language": "python",
   "name": "python3"
  },
  "language_info": {
   "codemirror_mode": {
    "name": "ipython",
    "version": 3
   },
   "file_extension": ".py",
   "mimetype": "text/x-python",
   "name": "python",
   "nbconvert_exporter": "python",
   "pygments_lexer": "ipython3",
   "version": "3.10.12"
  }
 },
 "nbformat": 4,
 "nbformat_minor": 5
}
