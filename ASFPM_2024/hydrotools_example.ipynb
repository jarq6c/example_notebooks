{
 "cells": [
  {
   "cell_type": "markdown",
   "id": "80fb47ce-14ab-4b72-9e11-910722a16f68",
   "metadata": {},
   "source": [
    "# Exploring National Water Model (NWM) operational streamflow output using hydrotools\n",
    "\n",
    "This notebook demonstrates how to retrieve and explore National Water Model streamflow output using the `hydrotools.nwm_client_new` package. The first step is to install the package. For more information see the PyPI landing page: https://pypi.org/project/hydrotools.nwm-client-new/"
   ]
  },
  {
   "cell_type": "code",
   "execution_count": 1,
   "id": "a18790ed-9b4d-4a4c-83c8-a3d4ae848c15",
   "metadata": {},
   "outputs": [
    {
     "name": "stdout",
     "output_type": "stream",
     "text": [
      "Note: you may need to restart the kernel to use updated packages.\n"
     ]
    }
   ],
   "source": [
    "%pip install -q hydrotools.nwm_client_new nest-asyncio"
   ]
  },
  {
   "cell_type": "code",
   "execution_count": 2,
   "id": "1b8c611b-0da7-41b2-ba2b-41677043d4bb",
   "metadata": {},
   "outputs": [],
   "source": [
    "# Required to run hydrotools inside Jupyter Notebook\n",
    "import nest_asyncio\n",
    "nest_asyncio.apply()"
   ]
  },
  {
   "cell_type": "markdown",
   "id": "9038e656-9c95-48e5-be3e-0d9c336610d1",
   "metadata": {},
   "source": [
    "## List available model configurations\n",
    "\n",
    "Here we'll setup the data client to retrieve data from Google Cloud Platform (the default source) and view the available configurations."
   ]
  },
  {
   "cell_type": "code",
   "execution_count": 3,
   "id": "49902159-7ad5-4e80-9235-8cc8f5eecd50",
   "metadata": {},
   "outputs": [
    {
     "data": {
      "text/plain": [
       "['analysis_assim',\n",
       " 'analysis_assim_alaska',\n",
       " 'analysis_assim_alaska_no_da',\n",
       " 'analysis_assim_extend',\n",
       " 'analysis_assim_extend_no_da',\n",
       " 'analysis_assim_extend_alaska',\n",
       " 'analysis_assim_extend_alaska_no_da',\n",
       " 'analysis_assim_hawaii',\n",
       " 'analysis_assim_hawaii_no_da',\n",
       " 'analysis_assim_no_da',\n",
       " 'analysis_assim_puertorico',\n",
       " 'analysis_assim_puertorico_no_da',\n",
       " 'analysis_assim_long',\n",
       " 'analysis_assim_long_no_da',\n",
       " 'long_range_mem1',\n",
       " 'long_range_mem2',\n",
       " 'long_range_mem3',\n",
       " 'long_range_mem4',\n",
       " 'medium_range_alaska_mem1',\n",
       " 'medium_range_alaska_mem2',\n",
       " 'medium_range_alaska_mem3',\n",
       " 'medium_range_alaska_mem4',\n",
       " 'medium_range_alaska_mem5',\n",
       " 'medium_range_alaska_mem6',\n",
       " 'medium_range_alaska_no_da',\n",
       " 'medium_range_mem1',\n",
       " 'medium_range_mem2',\n",
       " 'medium_range_mem3',\n",
       " 'medium_range_mem4',\n",
       " 'medium_range_mem5',\n",
       " 'medium_range_mem6',\n",
       " 'medium_range_mem7',\n",
       " 'medium_range_no_da',\n",
       " 'short_range',\n",
       " 'short_range_alaska',\n",
       " 'short_range_hawaii',\n",
       " 'short_range_hawaii_no_da',\n",
       " 'short_range_puertorico',\n",
       " 'short_range_puertorico_no_da']"
      ]
     },
     "execution_count": 3,
     "metadata": {},
     "output_type": "execute_result"
    }
   ],
   "source": [
    "# Import the NWM Client\n",
    "from hydrotools.nwm_client_new.NWMFileClient import NWMFileClient\n",
    "\n",
    "# Instantiate model data client\n",
    "#  By default, NWM values are in SI units\n",
    "#  If you prefer US standard units, nwm_client can return\n",
    "#  values in US standard units by setting the unit_system parameter \n",
    "#  to MeasurementUnitSystem.US\n",
    "# \n",
    "# from hydrotools.nwm_client_new.NWMClientDefaults import MeasurementUnitSystem\n",
    "# model_data_client = NWMFileClient(unit_system=MeasurementUnitSystem.US)\n",
    "model_data_client = NWMFileClient()\n",
    "\n",
    "# Print compatible model configurations\n",
    "#  Note that not all data sources contain the full range of available \n",
    "#  National Water Model data. This client defaults to Google Cloud Platform\n",
    "#  Which has the largest amount of *operational* forecast data.\n",
    "#  Also note that not all configurations are available for the entire\n",
    "#  archive of NWM operational forecast data. For example, the configurations \n",
    "#  for Alaska only became available after August 2023.\n",
    "model_data_client.catalog.configurations"
   ]
  },
  {
   "cell_type": "markdown",
   "id": "41be7c05-8d5f-4cdb-b000-701e1ce9bac2",
   "metadata": {},
   "source": [
    "## Retrieve data\n",
    "\n",
    "The next step is to use the `get` method to retrieve NWM model output as a `pandas.DataFrame`. In this case, we retrieve an entire un-nudged extended analysis and assimilation cycle (`analysis_assim_extend_no_da`) from Google Cloud Platform. These data include 28 streamflow values for each of two `feature_id` (NHD comid) (`101, 179`) for the `analysis_assim_extend_no_da` cycle issued at 16Z on 2024-05-01."
   ]
  },
  {
   "cell_type": "code",
   "execution_count": 4,
   "id": "f4d95f57-6e54-40c9-bf2c-57548d0cbc73",
   "metadata": {},
   "outputs": [],
   "source": [
    "# Retrieve data\n",
    "model_data = model_data_client.get(\n",
    "    configurations = [\"analysis_assim_extend_no_da\"],\n",
    "    reference_times = [\"20240501T16Z\"],\n",
    "    nwm_feature_ids = [101, 179]\n",
    "    )"
   ]
  },
  {
   "cell_type": "code",
   "execution_count": 6,
   "id": "bd76ad37-f12c-455a-b842-2a5d19152751",
   "metadata": {},
   "outputs": [
    {
     "data": {
      "text/html": [
       "<div>\n",
       "<style scoped>\n",
       "    .dataframe tbody tr th:only-of-type {\n",
       "        vertical-align: middle;\n",
       "    }\n",
       "\n",
       "    .dataframe tbody tr th {\n",
       "        vertical-align: top;\n",
       "    }\n",
       "\n",
       "    .dataframe thead th {\n",
       "        text-align: right;\n",
       "    }\n",
       "</style>\n",
       "<table border=\"1\" class=\"dataframe\">\n",
       "  <thead>\n",
       "    <tr style=\"text-align: right;\">\n",
       "      <th></th>\n",
       "      <th>reference_time</th>\n",
       "      <th>nwm_feature_id</th>\n",
       "      <th>value_time</th>\n",
       "      <th>value</th>\n",
       "      <th>measurement_unit</th>\n",
       "      <th>variable_name</th>\n",
       "      <th>configuration</th>\n",
       "      <th>usgs_site_code</th>\n",
       "    </tr>\n",
       "  </thead>\n",
       "  <tbody>\n",
       "    <tr>\n",
       "      <th>0</th>\n",
       "      <td>2024-04-30 12:00:00</td>\n",
       "      <td>101</td>\n",
       "      <td>2024-04-30 20:00:00</td>\n",
       "      <td>16.809999</td>\n",
       "      <td>m3 s-1</td>\n",
       "      <td>streamflow</td>\n",
       "      <td>analysis_and_assimilation_no_da</td>\n",
       "      <td>&lt;NA&gt;</td>\n",
       "    </tr>\n",
       "    <tr>\n",
       "      <th>1</th>\n",
       "      <td>2024-04-30 12:00:00</td>\n",
       "      <td>101</td>\n",
       "      <td>2024-04-30 21:00:00</td>\n",
       "      <td>16.809999</td>\n",
       "      <td>m3 s-1</td>\n",
       "      <td>streamflow</td>\n",
       "      <td>analysis_and_assimilation_no_da</td>\n",
       "      <td>&lt;NA&gt;</td>\n",
       "    </tr>\n",
       "    <tr>\n",
       "      <th>2</th>\n",
       "      <td>2024-04-30 12:00:00</td>\n",
       "      <td>101</td>\n",
       "      <td>2024-04-30 22:00:00</td>\n",
       "      <td>16.779999</td>\n",
       "      <td>m3 s-1</td>\n",
       "      <td>streamflow</td>\n",
       "      <td>analysis_and_assimilation_no_da</td>\n",
       "      <td>&lt;NA&gt;</td>\n",
       "    </tr>\n",
       "    <tr>\n",
       "      <th>3</th>\n",
       "      <td>2024-04-30 12:00:00</td>\n",
       "      <td>101</td>\n",
       "      <td>2024-04-30 23:00:00</td>\n",
       "      <td>16.740000</td>\n",
       "      <td>m3 s-1</td>\n",
       "      <td>streamflow</td>\n",
       "      <td>analysis_and_assimilation_no_da</td>\n",
       "      <td>&lt;NA&gt;</td>\n",
       "    </tr>\n",
       "    <tr>\n",
       "      <th>4</th>\n",
       "      <td>2024-04-30 12:00:00</td>\n",
       "      <td>101</td>\n",
       "      <td>2024-05-01 00:00:00</td>\n",
       "      <td>16.680000</td>\n",
       "      <td>m3 s-1</td>\n",
       "      <td>streamflow</td>\n",
       "      <td>analysis_and_assimilation_no_da</td>\n",
       "      <td>&lt;NA&gt;</td>\n",
       "    </tr>\n",
       "  </tbody>\n",
       "</table>\n",
       "</div>"
      ],
      "text/plain": [
       "       reference_time  nwm_feature_id          value_time      value  \\\n",
       "0 2024-04-30 12:00:00             101 2024-04-30 20:00:00  16.809999   \n",
       "1 2024-04-30 12:00:00             101 2024-04-30 21:00:00  16.809999   \n",
       "2 2024-04-30 12:00:00             101 2024-04-30 22:00:00  16.779999   \n",
       "3 2024-04-30 12:00:00             101 2024-04-30 23:00:00  16.740000   \n",
       "4 2024-04-30 12:00:00             101 2024-05-01 00:00:00  16.680000   \n",
       "\n",
       "  measurement_unit variable_name                    configuration  \\\n",
       "0           m3 s-1    streamflow  analysis_and_assimilation_no_da   \n",
       "1           m3 s-1    streamflow  analysis_and_assimilation_no_da   \n",
       "2           m3 s-1    streamflow  analysis_and_assimilation_no_da   \n",
       "3           m3 s-1    streamflow  analysis_and_assimilation_no_da   \n",
       "4           m3 s-1    streamflow  analysis_and_assimilation_no_da   \n",
       "\n",
       "  usgs_site_code  \n",
       "0           <NA>  \n",
       "1           <NA>  \n",
       "2           <NA>  \n",
       "3           <NA>  \n",
       "4           <NA>  "
      ]
     },
     "execution_count": 6,
     "metadata": {},
     "output_type": "execute_result"
    }
   ],
   "source": [
    "model_data.head()"
   ]
  },
  {
   "cell_type": "code",
   "execution_count": null,
   "id": "7c624f56-3036-4618-b00c-76618581c190",
   "metadata": {},
   "outputs": [],
   "source": []
  }
 ],
 "metadata": {
  "kernelspec": {
   "display_name": "Python 3 (ipykernel)",
   "language": "python",
   "name": "python3"
  },
  "language_info": {
   "codemirror_mode": {
    "name": "ipython",
    "version": 3
   },
   "file_extension": ".py",
   "mimetype": "text/x-python",
   "name": "python",
   "nbconvert_exporter": "python",
   "pygments_lexer": "ipython3",
   "version": "3.12.2"
  }
 },
 "nbformat": 4,
 "nbformat_minor": 5
}
